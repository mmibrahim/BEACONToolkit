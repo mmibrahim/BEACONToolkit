{
  "nbformat": 4,
  "nbformat_minor": 0,
  "metadata": {
    "colab": {
      "name": "Chapter 10: Objects and Classes.ipynb",
      "provenance": [],
      "collapsed_sections": [],
      "authorship_tag": "ABX9TyM1IFEAdSP0FH331HtuXi+l",
      "include_colab_link": true
    },
    "kernelspec": {
      "name": "python3",
      "display_name": "Python 3"
    }
  },
  "cells": [
    {
      "cell_type": "markdown",
      "metadata": {
        "id": "view-in-github",
        "colab_type": "text"
      },
      "source": [
        "<a href=\"https://colab.research.google.com/github/mmibrahim/BEACONToolkit/blob/master/Chapter_10_Objects_and_Classes.ipynb\" target=\"_parent\"><img src=\"https://colab.research.google.com/assets/colab-badge.svg\" alt=\"Open In Colab\"/></a>"
      ]
    },
    {
      "cell_type": "code",
      "metadata": {
        "id": "fnR5u50WE4G5",
        "colab_type": "code",
        "colab": {}
      },
      "source": [
        ""
      ],
      "execution_count": 0,
      "outputs": []
    },
    {
      "cell_type": "code",
      "metadata": {
        "id": "f0P2xKGPfZ3F",
        "colab_type": "code",
        "colab": {}
      },
      "source": [
        ""
      ],
      "execution_count": 0,
      "outputs": []
    },
    {
      "cell_type": "markdown",
      "metadata": {
        "id": "7DJlqtTSG6Bm",
        "colab_type": "text"
      },
      "source": [
        "Objects are data structures containing both data (attributes) and code (functions aka methods). Think of objects as nouns and their methods as verbs. For example an integer object with the value 7 facilitates methods such as addition and subtraction, etc. The string 'Sam' or 'dove' are also string objects in python that have string object methods such as capitalize() and replace() etc."
      ]
    },
    {
      "cell_type": "markdown",
      "metadata": {
        "id": "pFFIZ49AIfmZ",
        "colab_type": "text"
      },
      "source": [
        "**Creating a New Object**\n",
        "Suppose that you want to define objects that represent information about animals, mammals, cats, dogs, persons, students, cars, finances or something more abstract like a new list type that behaves a little differently than the standard python lists. But let's start with something very basic as a person, a person's attributes might be name, age, sex, height weight, "
      ]
    },
    {
      "cell_type": "markdown",
      "metadata": {
        "id": "ZyTq8KCdMzaF",
        "colab_type": "text"
      },
      "source": [
        "You define a class by using the class keyword:\n",
        "\n",
        "class Person:\n",
        "\n",
        "Note the class name is conventionally capitalized.\n",
        "\n",
        "Let's start with the basic attributes a person might have like name, age and sex. "
      ]
    },
    {
      "cell_type": "code",
      "metadata": {
        "id": "0BkfcXlCOSbH",
        "colab_type": "code",
        "colab": {}
      },
      "source": [
        "class Person:\n",
        "    pass"
      ],
      "execution_count": 0,
      "outputs": []
    },
    {
      "cell_type": "markdown",
      "metadata": {
        "id": "72ZbiiIOOlsD",
        "colab_type": "text"
      },
      "source": [
        "You can create an object from a class by calling a the class name like we do with a function."
      ]
    },
    {
      "cell_type": "code",
      "metadata": {
        "id": "aRSPbAuxOexk",
        "colab_type": "code",
        "colab": {}
      },
      "source": [
        "#let's create an object\n",
        "mike = Person()\n",
        "#and let's create another one\n",
        "jill = Person()"
      ],
      "execution_count": 0,
      "outputs": []
    },
    {
      "cell_type": "code",
      "metadata": {
        "id": "AhIeFYwmPEuv",
        "colab_type": "code",
        "outputId": "0a76dad3-28ba-4cd0-95e7-fbe59b0e943b",
        "colab": {
          "base_uri": "https://localhost:8080/",
          "height": 34
        }
      },
      "source": [
        "mike"
      ],
      "execution_count": 0,
      "outputs": [
        {
          "output_type": "execute_result",
          "data": {
            "text/plain": [
              "<__main__.Person at 0x7f81042ab240>"
            ]
          },
          "metadata": {
            "tags": []
          },
          "execution_count": 3
        }
      ]
    },
    {
      "cell_type": "markdown",
      "metadata": {
        "id": "BrXadxXXPKZi",
        "colab_type": "text"
      },
      "source": [
        "You'll have to admit, that in their current form the Person class nor the objects mike and Jill are pretty much doing nothing. For them to be anything of value a person class should have attributes (like name, age, sex etc.) and functionality, like what a person does like study, exercise, work, read, commute etc.\n",
        "\n",
        "Let's start with the attributes, here's how we assign the attributes to a class."
      ]
    },
    {
      "cell_type": "code",
      "metadata": {
        "id": "4AFZicAluLDA",
        "colab_type": "code",
        "colab": {}
      },
      "source": [
        "class Person:\n",
        "    \n",
        "    def __init__(self, name, age, sex):\n",
        "        self.name = name\n",
        "        self.age = age\n",
        "        self.sex =sex\n",
        "       "
      ],
      "execution_count": 0,
      "outputs": []
    },
    {
      "cell_type": "markdown",
      "metadata": {
        "id": "OkFDjljDulTi",
        "colab_type": "text"
      },
      "source": [
        "Now, let's create the objects with attributes initialized."
      ]
    },
    {
      "cell_type": "code",
      "metadata": {
        "id": "WcuEi4_MurxB",
        "colab_type": "code",
        "colab": {}
      },
      "source": [
        "mike = Person('Mike', 48, 'Male')"
      ],
      "execution_count": 0,
      "outputs": []
    },
    {
      "cell_type": "code",
      "metadata": {
        "id": "Mv9YsI4PukrR",
        "colab_type": "code",
        "colab": {}
      },
      "source": [
        "jill = Person('Jill', 26, 'Female')"
      ],
      "execution_count": 0,
      "outputs": []
    },
    {
      "cell_type": "markdown",
      "metadata": {
        "id": "mzIXqlhJGqH0",
        "colab_type": "text"
      },
      "source": [
        "**Drill**\n",
        "\n",
        "Create two more objects, jack and vicky with non "
      ]
    },
    {
      "cell_type": "code",
      "metadata": {
        "id": "2ljcZHdZ1ILL",
        "colab_type": "code",
        "outputId": "766ba98d-d154-4fd3-afc8-7df7fc03ebcd",
        "colab": {
          "base_uri": "https://localhost:8080/",
          "height": 198
        }
      },
      "source": [
        "#fill in below to create the jack and vick objects of the Person class\n",
        "#first do it the wrong way, initialize without providing the attributes\n",
        "jack = Person()\n",
        "\n",
        "vicky = Person()"
      ],
      "execution_count": 0,
      "outputs": [
        {
          "output_type": "error",
          "ename": "TypeError",
          "evalue": "ignored",
          "traceback": [
            "\u001b[0;31m---------------------------------------------------------------------------\u001b[0m",
            "\u001b[0;31mTypeError\u001b[0m                                 Traceback (most recent call last)",
            "\u001b[0;32m<ipython-input-158-b87581245e7a>\u001b[0m in \u001b[0;36m<module>\u001b[0;34m()\u001b[0m\n\u001b[0;32m----> 1\u001b[0;31m \u001b[0mjack\u001b[0m \u001b[0;34m=\u001b[0m \u001b[0mPerson\u001b[0m\u001b[0;34m(\u001b[0m\u001b[0;34m)\u001b[0m\u001b[0;34m\u001b[0m\u001b[0;34m\u001b[0m\u001b[0m\n\u001b[0m\u001b[1;32m      2\u001b[0m \u001b[0;34m\u001b[0m\u001b[0m\n\u001b[1;32m      3\u001b[0m \u001b[0mvicky\u001b[0m \u001b[0;34m=\u001b[0m \u001b[0mPerson\u001b[0m\u001b[0;34m(\u001b[0m\u001b[0;34m)\u001b[0m\u001b[0;34m\u001b[0m\u001b[0;34m\u001b[0m\u001b[0m\n",
            "\u001b[0;31mTypeError\u001b[0m: __init__() missing 3 required positional arguments: 'name', 'age', and 'sex'"
          ]
        }
      ]
    },
    {
      "cell_type": "markdown",
      "metadata": {
        "id": "YL9Tb74OPgQC",
        "colab_type": "text"
      },
      "source": [
        "What went wrong above, you forgot to provide the arguments for the __init__ method, those arguments are the Person's attributes name, age and sex."
      ]
    },
    {
      "cell_type": "markdown",
      "metadata": {
        "id": "-lGix3Y8NgN9",
        "colab_type": "text"
      },
      "source": [
        ""
      ]
    },
    {
      "cell_type": "markdown",
      "metadata": {
        "id": "wCchE8mMd-wV",
        "colab_type": "text"
      },
      "source": [
        ""
      ]
    },
    {
      "cell_type": "code",
      "metadata": {
        "id": "YuPYK_VqNhP7",
        "colab_type": "code",
        "colab": {}
      },
      "source": [
        "#fill in below to create the jack and vick objects of the Person class\n",
        "#now let's do it the right way, provide the attributes with any values you want\n",
        "jack = Person(,,)\n",
        "\n",
        "vicky = Person(,,)"
      ],
      "execution_count": 0,
      "outputs": []
    },
    {
      "cell_type": "markdown",
      "metadata": {
        "id": "W9HMyQvxNJ2T",
        "colab_type": "text"
      },
      "source": [
        "What went wrong above, you forgot to provide the arguments for the __init__ method, those arguments are the Person's attributes name, age and sex."
      ]
    },
    {
      "cell_type": "markdown",
      "metadata": {
        "id": "RFk3T-XPM1jI",
        "colab_type": "text"
      },
      "source": [
        ""
      ]
    },
    {
      "cell_type": "code",
      "metadata": {
        "id": "fmHDVGvuMUHJ",
        "colab_type": "code",
        "colab": {}
      },
      "source": [
        "jack = Person('Jack',34, 'Male')"
      ],
      "execution_count": 0,
      "outputs": []
    },
    {
      "cell_type": "code",
      "metadata": {
        "id": "sm00twEJJBPA",
        "colab_type": "code",
        "outputId": "9dabca51-fcf2-47fe-83ce-26dbca4d5989",
        "colab": {
          "base_uri": "https://localhost:8080/",
          "height": 181
        }
      },
      "source": [
        ""
      ],
      "execution_count": 0,
      "outputs": [
        {
          "output_type": "error",
          "ename": "AttributeError",
          "evalue": "ignored",
          "traceback": [
            "\u001b[0;31m---------------------------------------------------------------------------\u001b[0m",
            "\u001b[0;31mAttributeError\u001b[0m                            Traceback (most recent call last)",
            "\u001b[0;32m<ipython-input-141-94467eee7dfb>\u001b[0m in \u001b[0;36m<module>\u001b[0;34m()\u001b[0m\n\u001b[0;32m----> 1\u001b[0;31m \u001b[0mprint\u001b[0m\u001b[0;34m(\u001b[0m\u001b[0mPerson\u001b[0m\u001b[0;34m.\u001b[0m\u001b[0mself\u001b[0m\u001b[0;34m)\u001b[0m\u001b[0;34m\u001b[0m\u001b[0;34m\u001b[0m\u001b[0m\n\u001b[0m\u001b[1;32m      2\u001b[0m \u001b[0mhelp\u001b[0m\u001b[0;34m(\u001b[0m\u001b[0mPerson\u001b[0m\u001b[0;34m.\u001b[0m\u001b[0m__init__\u001b[0m\u001b[0;34m)\u001b[0m\u001b[0;34m\u001b[0m\u001b[0;34m\u001b[0m\u001b[0m\n",
            "\u001b[0;31mAttributeError\u001b[0m: type object 'Person' has no attribute 'self'"
          ]
        }
      ]
    },
    {
      "cell_type": "markdown",
      "metadata": {
        "id": "QsxLTGKdMn5-",
        "colab_type": "text"
      },
      "source": [
        "**Now let's add another attribute**"
      ]
    },
    {
      "cell_type": "code",
      "metadata": {
        "id": "-oyWNYOT7Wya",
        "colab_type": "code",
        "outputId": "f9c6bb13-f7b6-41da-e802-eeeff65cb0ba",
        "colab": {
          "base_uri": "https://localhost:8080/",
          "height": 34
        }
      },
      "source": [
        "len(jill.__dict__)"
      ],
      "execution_count": 0,
      "outputs": [
        {
          "output_type": "execute_result",
          "data": {
            "text/plain": [
              "3"
            ]
          },
          "metadata": {
            "tags": []
          },
          "execution_count": 86
        }
      ]
    },
    {
      "cell_type": "code",
      "metadata": {
        "id": "9AljfuLO_U-f",
        "colab_type": "code",
        "outputId": "34719c7a-d65d-455d-eed9-fcfec8aa9bdb",
        "colab": {
          "base_uri": "https://localhost:8080/",
          "height": 34
        }
      },
      "source": [
        "list(jill.__dict__.keys())\n"
      ],
      "execution_count": 0,
      "outputs": [
        {
          "output_type": "execute_result",
          "data": {
            "text/plain": [
              "['name', 'age', 'sex']"
            ]
          },
          "metadata": {
            "tags": []
          },
          "execution_count": 153
        }
      ]
    },
    {
      "cell_type": "code",
      "metadata": {
        "id": "Ro19nZSI3xI6",
        "colab_type": "code",
        "outputId": "e4b8cda8-1f59-4e4e-dab3-6f360f3e750f",
        "colab": {
          "base_uri": "https://localhost:8080/",
          "height": 102
        }
      },
      "source": [
        "import unittest\n",
        "\n",
        "class TestStringMethods(unittest.TestCase):\n",
        "\n",
        "    def test_max(self):\n",
        "        self.assertLess(jill.age, 120)\n",
        "        \n",
        "    def test_attrs_numbers(self):\n",
        "        self.assertEqual(len(jill.__dict__),3)\n",
        "    def test_attrs(self):\n",
        "        self.assertEqual(list(jill.__dict__.keys()), ['name','age','sex'])\n",
        "    def test_min(self):\n",
        "        self.assertGreater(jill.age, 0)\n",
        "    def test_age(self):\n",
        "        self.assertEqual(jill.age, 26)\n",
        "        \n",
        "    def test_is_person(self):\n",
        "        self.assertIs(type(jill.age), int)\n",
        "        self.assertIs(type(jill.name), str)\n",
        "    def test_is_person_instance(self):\n",
        "        self.assertIsInstance(jill, Person)\n",
        "   \n",
        "\n",
        "if __name__ == '__main__':\n",
        "    unittest.main(argv=['first-arg-is-ignored'], exit=False)"
      ],
      "execution_count": 0,
      "outputs": [
        {
          "output_type": "stream",
          "text": [
            ".......\n",
            "----------------------------------------------------------------------\n",
            "Ran 7 tests in 0.021s\n",
            "\n",
            "OK\n"
          ],
          "name": "stderr"
        }
      ]
    },
    {
      "cell_type": "markdown",
      "metadata": {
        "id": "ylFkZ49lu78s",
        "colab_type": "text"
      },
      "source": [
        "Now we have two initialized objects mike, jill with their three attributes defined."
      ]
    },
    {
      "cell_type": "markdown",
      "metadata": {
        "id": "kF1gj2YkvHUA",
        "colab_type": "text"
      },
      "source": [
        "**Drills:**\n",
        "\n",
        "\n",
        "\n",
        "1.   Add a weight  attribute to the person class.\n",
        "2.   Create two more objects Person objects with the attributes initialized, choose any values you want.\n",
        "3-\n",
        "\n"
      ]
    },
    {
      "cell_type": "code",
      "metadata": {
        "id": "ChOXJLlQwVDn",
        "colab_type": "code",
        "outputId": "dd126bb1-8b44-49e2-e010-8d255c288f8a",
        "colab": {
          "base_uri": "https://localhost:8080/",
          "height": 198
        }
      },
      "source": [
        "class Person:\n",
        "    def __init__(self, name, age, sex):\n",
        "        self.name = name\n",
        "        self.age = age\n",
        "        self.sex =sex\n",
        "        #your code here\n",
        "        self.weight = weight\n",
        "    \n",
        "#do not type anything below this line\n"
      ],
      "execution_count": 0,
      "outputs": [
        {
          "output_type": "error",
          "ename": "TypeError",
          "evalue": "ignored",
          "traceback": [
            "\u001b[0;31m---------------------------------------------------------------------------\u001b[0m",
            "\u001b[0;31mTypeError\u001b[0m                                 Traceback (most recent call last)",
            "\u001b[0;32m<ipython-input-6-e561bf3f87f5>\u001b[0m in \u001b[0;36m<module>\u001b[0;34m()\u001b[0m\n\u001b[1;32m      8\u001b[0m \u001b[0;34m\u001b[0m\u001b[0m\n\u001b[1;32m      9\u001b[0m \u001b[0;31m#do not type anything below this line\u001b[0m\u001b[0;34m\u001b[0m\u001b[0;34m\u001b[0m\u001b[0;34m\u001b[0m\u001b[0m\n\u001b[0;32m---> 10\u001b[0;31m \u001b[0mtrial_1\u001b[0m\u001b[0;34m=\u001b[0m\u001b[0mPerson\u001b[0m\u001b[0;34m(\u001b[0m\u001b[0;34m'trial_1'\u001b[0m\u001b[0;34m,\u001b[0m \u001b[0;36m4\u001b[0m\u001b[0;34m,\u001b[0m \u001b[0;34m'Male'\u001b[0m\u001b[0;34m,\u001b[0m \u001b[0;36m200\u001b[0m\u001b[0;34m)\u001b[0m\u001b[0;34m\u001b[0m\u001b[0;34m\u001b[0m\u001b[0m\n\u001b[0m",
            "\u001b[0;31mTypeError\u001b[0m: __init__() takes 4 positional arguments but 5 were given"
          ]
        }
      ]
    },
    {
      "cell_type": "markdown",
      "metadata": {
        "id": "jo7hI24TFbXm",
        "colab_type": "text"
      },
      "source": [
        "What went wrong here."
      ]
    },
    {
      "cell_type": "code",
      "metadata": {
        "id": "pna_pG1XvF80",
        "colab_type": "code",
        "colab": {}
      },
      "source": [
        ""
      ],
      "execution_count": 0,
      "outputs": []
    },
    {
      "cell_type": "code",
      "metadata": {
        "id": "-u2sus6Pu5E0",
        "colab_type": "code",
        "colab": {}
      },
      "source": [
        ""
      ],
      "execution_count": 0,
      "outputs": []
    },
    {
      "cell_type": "markdown",
      "metadata": {
        "id": "zKEuBk7Ud_3x",
        "colab_type": "text"
      },
      "source": [
        "**Inheritance**\n",
        "\n"
      ]
    }
  ]
}